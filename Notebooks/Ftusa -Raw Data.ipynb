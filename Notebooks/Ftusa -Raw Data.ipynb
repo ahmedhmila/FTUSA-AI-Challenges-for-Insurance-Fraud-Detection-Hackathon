{
 "cells": [
  {
   "cell_type": "markdown",
   "metadata": {},
   "source": [
    "# **Imports**"
   ]
  },
  {
   "cell_type": "code",
   "execution_count": 46,
   "metadata": {},
   "outputs": [],
   "source": [
    "import pandas as pd\n",
    "from sklearn.preprocessing import StandardScaler, LabelEncoder\n",
    "from sklearn.decomposition import IncrementalPCA\n",
    "from sklearn.cluster import MiniBatchKMeans\n",
    "from sklearn.linear_model import LogisticRegression\n",
    "import matplotlib.pyplot as plt\n",
    "from sklearn.ensemble import IsolationForest\n",
    "import numpy as np\n",
    "from sklearn.ensemble import RandomForestClassifier\n",
    "from sklearn.model_selection import train_test_split\n",
    "import seaborn as sns\n",
    "from sklearn.metrics import f1_score\n",
    "from sklearn.metrics import roc_curve, roc_auc_score"
   ]
  },
  {
   "cell_type": "code",
   "execution_count": 47,
   "metadata": {},
   "outputs": [],
   "source": [
    "pd.set_option('display.max_rows', None)#To display all rows"
   ]
  },
  {
   "cell_type": "markdown",
   "metadata": {},
   "source": [
    "# **Data Preprocessing**"
   ]
  },
  {
   "cell_type": "markdown",
   "metadata": {},
   "source": [
    "*Loading the datasset \"recours\"*"
   ]
  },
  {
   "cell_type": "code",
   "execution_count": 48,
   "metadata": {},
   "outputs": [
    {
     "name": "stderr",
     "output_type": "stream",
     "text": [
      "C:\\Users\\ahmed\\AppData\\Local\\Temp\\ipykernel_2436\\4241597952.py:1: DtypeWarning: Columns (15) have mixed types. Specify dtype option on import or set low_memory=False.\n",
      "  df = pd.read_csv('C:\\\\Users\\\\ahmed\\\\Downloads\\\\Docs Hackathon - Fraude\\\\Docs Hackathon - Fraude\\\\E-recours 2024\\\\data-1715774388994 - Recours.csv')\n"
     ]
    }
   ],
   "source": [
    "df = pd.read_csv('C:\\\\Users\\\\ahmed\\\\Downloads\\\\Docs Hackathon - Fraude\\\\Docs Hackathon - Fraude\\\\E-recours 2024\\\\data-1715774388994 - Recours.csv')\n"
   ]
  },
  {
   "cell_type": "markdown",
   "metadata": {},
   "source": [
    "*Exploring the data*"
   ]
  },
  {
   "cell_type": "code",
   "execution_count": 49,
   "metadata": {},
   "outputs": [
    {
     "name": "stdout",
     "output_type": "stream",
     "text": [
      "<class 'pandas.core.frame.DataFrame'>\n",
      "RangeIndex: 38942 entries, 0 to 38941\n",
      "Data columns (total 43 columns):\n",
      " #   Column                               Non-Null Count  Dtype  \n",
      "---  ------                               --------------  -----  \n",
      " 0   Id                                   38942 non-null  object \n",
      " 1   ApplicantReference                   38942 non-null  object \n",
      " 2   DefendantReference                   38942 non-null  object \n",
      " 3   SinistreDate                         38942 non-null  object \n",
      " 4   Status                               38942 non-null  object \n",
      " 5   Reference                            38942 non-null  object \n",
      " 6   ApplicantSinistreNumber              38942 non-null  object \n",
      " 7   DefendantSinistreNumber              28168 non-null  object \n",
      " 8   SinistrePlace                        33848 non-null  object \n",
      " 9   ApplicantCompanyContractNumber       38942 non-null  object \n",
      " 10  DefendantCompanyContractNumber       32933 non-null  object \n",
      " 11  PlaintiffCompanyInsuredLiability     38942 non-null  int64  \n",
      " 12  DefendantCompanyInsuredLiability     38942 non-null  int64  \n",
      " 13  ApplicantCompanyInsuredRegistration  38941 non-null  object \n",
      " 14  DefendantCompanyInsuredRegistration  38722 non-null  object \n",
      " 15  RequestedAmount                      15567 non-null  object \n",
      " 16  RecoveredAmount                      38942 non-null  int64  \n",
      " 17  ApplicantCompanyId                   38942 non-null  object \n",
      " 18  DefendantCompanyId                   38942 non-null  object \n",
      " 19  Index                                38942 non-null  int64  \n",
      " 20  DStepId                              38942 non-null  object \n",
      " 21  CreatedDate                          38942 non-null  object \n",
      " 22  CreatedBy                            38942 non-null  object \n",
      " 23  CreatedById                          0 non-null      float64\n",
      " 24  ModifiedDate                         36445 non-null  object \n",
      " 25  ModifiedBy                           36445 non-null  object \n",
      " 26  ModifiedById                         0 non-null      float64\n",
      " 27  ExtraInfoId                          1219 non-null   object \n",
      " 28  DeclarationDate                      38942 non-null  object \n",
      " 29  EstimedAmount                        14721 non-null  float64\n",
      " 30  AssureeDefendant                     34926 non-null  object \n",
      " 31  ScaleCase                            33968 non-null  object \n",
      " 32  TypePersonne                         33194 non-null  object \n",
      " 33  WorkFlowType                         38942 non-null  object \n",
      " 34  HIDA_Index                           38942 non-null  int64  \n",
      " 35  DelaiVariable                        38942 non-null  int64  \n",
      " 36  OpenDate                             38942 non-null  object \n",
      " 37  AssureeApplicant                     38940 non-null  object \n",
      " 38  ProposedAmount                       221 non-null    float64\n",
      " 39  ArbitratedAmount                     0 non-null      float64\n",
      " 40  AmicableAmount                       3 non-null      float64\n",
      " 41  ExpertArbitreAmount                  1 non-null      float64\n",
      " 42  DDelaiFolderId                       38942 non-null  object \n",
      "dtypes: float64(7), int64(6), object(30)\n",
      "memory usage: 12.8+ MB\n"
     ]
    }
   ],
   "source": [
    "df.info()"
   ]
  },
  {
   "cell_type": "code",
   "execution_count": 50,
   "metadata": {},
   "outputs": [
    {
     "data": {
      "text/html": [
       "<div>\n",
       "<style scoped>\n",
       "    .dataframe tbody tr th:only-of-type {\n",
       "        vertical-align: middle;\n",
       "    }\n",
       "\n",
       "    .dataframe tbody tr th {\n",
       "        vertical-align: top;\n",
       "    }\n",
       "\n",
       "    .dataframe thead th {\n",
       "        text-align: right;\n",
       "    }\n",
       "</style>\n",
       "<table border=\"1\" class=\"dataframe\">\n",
       "  <thead>\n",
       "    <tr style=\"text-align: right;\">\n",
       "      <th></th>\n",
       "      <th>PlaintiffCompanyInsuredLiability</th>\n",
       "      <th>DefendantCompanyInsuredLiability</th>\n",
       "      <th>RecoveredAmount</th>\n",
       "      <th>Index</th>\n",
       "      <th>CreatedById</th>\n",
       "      <th>ModifiedById</th>\n",
       "      <th>EstimedAmount</th>\n",
       "      <th>HIDA_Index</th>\n",
       "      <th>DelaiVariable</th>\n",
       "      <th>ProposedAmount</th>\n",
       "      <th>ArbitratedAmount</th>\n",
       "      <th>AmicableAmount</th>\n",
       "      <th>ExpertArbitreAmount</th>\n",
       "    </tr>\n",
       "  </thead>\n",
       "  <tbody>\n",
       "    <tr>\n",
       "      <th>count</th>\n",
       "      <td>38942.000000</td>\n",
       "      <td>38942.000000</td>\n",
       "      <td>38942.0</td>\n",
       "      <td>38942.000000</td>\n",
       "      <td>0.0</td>\n",
       "      <td>0.0</td>\n",
       "      <td>14721.000000</td>\n",
       "      <td>38942.000000</td>\n",
       "      <td>38942.0</td>\n",
       "      <td>2.210000e+02</td>\n",
       "      <td>0.0</td>\n",
       "      <td>3.000000</td>\n",
       "      <td>1.000</td>\n",
       "    </tr>\n",
       "    <tr>\n",
       "      <th>mean</th>\n",
       "      <td>2.064609</td>\n",
       "      <td>95.533357</td>\n",
       "      <td>0.0</td>\n",
       "      <td>39.572210</td>\n",
       "      <td>NaN</td>\n",
       "      <td>NaN</td>\n",
       "      <td>35.358400</td>\n",
       "      <td>0.234554</td>\n",
       "      <td>0.0</td>\n",
       "      <td>2.506007e+05</td>\n",
       "      <td>NaN</td>\n",
       "      <td>12694.298667</td>\n",
       "      <td>11334.338</td>\n",
       "    </tr>\n",
       "    <tr>\n",
       "      <th>std</th>\n",
       "      <td>10.687273</td>\n",
       "      <td>18.506845</td>\n",
       "      <td>0.0</td>\n",
       "      <td>37.006945</td>\n",
       "      <td>NaN</td>\n",
       "      <td>NaN</td>\n",
       "      <td>1267.126776</td>\n",
       "      <td>0.473037</td>\n",
       "      <td>0.0</td>\n",
       "      <td>1.019619e+06</td>\n",
       "      <td>NaN</td>\n",
       "      <td>7079.856529</td>\n",
       "      <td>NaN</td>\n",
       "    </tr>\n",
       "    <tr>\n",
       "      <th>min</th>\n",
       "      <td>0.000000</td>\n",
       "      <td>-100.000000</td>\n",
       "      <td>0.0</td>\n",
       "      <td>1.000000</td>\n",
       "      <td>NaN</td>\n",
       "      <td>NaN</td>\n",
       "      <td>0.000000</td>\n",
       "      <td>0.000000</td>\n",
       "      <td>0.0</td>\n",
       "      <td>0.000000e+00</td>\n",
       "      <td>NaN</td>\n",
       "      <td>7378.740000</td>\n",
       "      <td>11334.338</td>\n",
       "    </tr>\n",
       "    <tr>\n",
       "      <th>25%</th>\n",
       "      <td>0.000000</td>\n",
       "      <td>100.000000</td>\n",
       "      <td>0.0</td>\n",
       "      <td>11.000000</td>\n",
       "      <td>NaN</td>\n",
       "      <td>NaN</td>\n",
       "      <td>0.000000</td>\n",
       "      <td>0.000000</td>\n",
       "      <td>0.0</td>\n",
       "      <td>0.000000e+00</td>\n",
       "      <td>NaN</td>\n",
       "      <td>8675.939000</td>\n",
       "      <td>11334.338</td>\n",
       "    </tr>\n",
       "    <tr>\n",
       "      <th>50%</th>\n",
       "      <td>0.000000</td>\n",
       "      <td>100.000000</td>\n",
       "      <td>0.0</td>\n",
       "      <td>27.000000</td>\n",
       "      <td>NaN</td>\n",
       "      <td>NaN</td>\n",
       "      <td>0.000000</td>\n",
       "      <td>0.000000</td>\n",
       "      <td>0.0</td>\n",
       "      <td>8.308000e+02</td>\n",
       "      <td>NaN</td>\n",
       "      <td>9973.138000</td>\n",
       "      <td>11334.338</td>\n",
       "    </tr>\n",
       "    <tr>\n",
       "      <th>75%</th>\n",
       "      <td>0.000000</td>\n",
       "      <td>100.000000</td>\n",
       "      <td>0.0</td>\n",
       "      <td>58.000000</td>\n",
       "      <td>NaN</td>\n",
       "      <td>NaN</td>\n",
       "      <td>0.000000</td>\n",
       "      <td>0.000000</td>\n",
       "      <td>0.0</td>\n",
       "      <td>5.555003e+03</td>\n",
       "      <td>NaN</td>\n",
       "      <td>15352.078000</td>\n",
       "      <td>11334.338</td>\n",
       "    </tr>\n",
       "    <tr>\n",
       "      <th>max</th>\n",
       "      <td>100.000000</td>\n",
       "      <td>100.000000</td>\n",
       "      <td>0.0</td>\n",
       "      <td>213.000000</td>\n",
       "      <td>NaN</td>\n",
       "      <td>NaN</td>\n",
       "      <td>152000.000000</td>\n",
       "      <td>4.000000</td>\n",
       "      <td>0.0</td>\n",
       "      <td>1.048553e+07</td>\n",
       "      <td>NaN</td>\n",
       "      <td>20731.018000</td>\n",
       "      <td>11334.338</td>\n",
       "    </tr>\n",
       "  </tbody>\n",
       "</table>\n",
       "</div>"
      ],
      "text/plain": [
       "       PlaintiffCompanyInsuredLiability  DefendantCompanyInsuredLiability  \\\n",
       "count                      38942.000000                      38942.000000   \n",
       "mean                           2.064609                         95.533357   \n",
       "std                           10.687273                         18.506845   \n",
       "min                            0.000000                       -100.000000   \n",
       "25%                            0.000000                        100.000000   \n",
       "50%                            0.000000                        100.000000   \n",
       "75%                            0.000000                        100.000000   \n",
       "max                          100.000000                        100.000000   \n",
       "\n",
       "       RecoveredAmount         Index  CreatedById  ModifiedById  \\\n",
       "count          38942.0  38942.000000          0.0           0.0   \n",
       "mean               0.0     39.572210          NaN           NaN   \n",
       "std                0.0     37.006945          NaN           NaN   \n",
       "min                0.0      1.000000          NaN           NaN   \n",
       "25%                0.0     11.000000          NaN           NaN   \n",
       "50%                0.0     27.000000          NaN           NaN   \n",
       "75%                0.0     58.000000          NaN           NaN   \n",
       "max                0.0    213.000000          NaN           NaN   \n",
       "\n",
       "       EstimedAmount    HIDA_Index  DelaiVariable  ProposedAmount  \\\n",
       "count   14721.000000  38942.000000        38942.0    2.210000e+02   \n",
       "mean       35.358400      0.234554            0.0    2.506007e+05   \n",
       "std      1267.126776      0.473037            0.0    1.019619e+06   \n",
       "min         0.000000      0.000000            0.0    0.000000e+00   \n",
       "25%         0.000000      0.000000            0.0    0.000000e+00   \n",
       "50%         0.000000      0.000000            0.0    8.308000e+02   \n",
       "75%         0.000000      0.000000            0.0    5.555003e+03   \n",
       "max    152000.000000      4.000000            0.0    1.048553e+07   \n",
       "\n",
       "       ArbitratedAmount  AmicableAmount  ExpertArbitreAmount  \n",
       "count               0.0        3.000000                1.000  \n",
       "mean                NaN    12694.298667            11334.338  \n",
       "std                 NaN     7079.856529                  NaN  \n",
       "min                 NaN     7378.740000            11334.338  \n",
       "25%                 NaN     8675.939000            11334.338  \n",
       "50%                 NaN     9973.138000            11334.338  \n",
       "75%                 NaN    15352.078000            11334.338  \n",
       "max                 NaN    20731.018000            11334.338  "
      ]
     },
     "execution_count": 50,
     "metadata": {},
     "output_type": "execute_result"
    }
   ],
   "source": [
    "df.describe()"
   ]
  },
  {
   "cell_type": "code",
   "execution_count": 51,
   "metadata": {},
   "outputs": [
    {
     "data": {
      "text/plain": [
       "(38942, 43)"
      ]
     },
     "execution_count": 51,
     "metadata": {},
     "output_type": "execute_result"
    }
   ],
   "source": [
    "df.shape"
   ]
  },
  {
   "cell_type": "markdown",
   "metadata": {},
   "source": [
    "*Filling missing values*"
   ]
  },
  {
   "cell_type": "code",
   "execution_count": 52,
   "metadata": {},
   "outputs": [],
   "source": [
    "df = df.fillna(0)"
   ]
  },
  {
   "cell_type": "markdown",
   "metadata": {},
   "source": [
    "# Feature Extraction"
   ]
  },
  {
   "cell_type": "code",
   "execution_count": 53,
   "metadata": {},
   "outputs": [],
   "source": [
    "df = df.drop(columns=['DelaiVariable','TypePersonne','CreatedById','SinistrePlace','ApplicantCompanyInsuredRegistration','DefendantCompanyInsuredRegistration','RequestedAmount','ExtraInfoId','DDelaiFolderId','ModifiedBy','ModifiedById','Id','ExpertArbitreAmount','ArbitratedAmount','AmicableAmount','ApplicantCompanyId', 'DefendantCompanyId','ApplicantCompanyContractNumber', 'DefendantCompanyContractNumber', 'RequestedAmount' ,'RecoveredAmount'])"
   ]
  },
  {
   "cell_type": "markdown",
   "metadata": {},
   "source": [
    "*What do we consider as  **Fradulant** data and **Proper** data*"
   ]
  },
  {
   "cell_type": "code",
   "execution_count": 54,
   "metadata": {},
   "outputs": [],
   "source": [
    "accepted_statuses = ['Accepté', 'Complet', 'Dossier réclamé en instance d’acceptation', 'Vrai doublon', 'Annulé',\n",
    "                     'Traité hors plateforme', 'En instance de compensation', 'Dossier en instance d’acceptation',\n",
    "                     'Contestation acceptée', 'Recours Accepté', 'Requalifié', 'Soumis pour acceptation au recours',\n",
    "                     'Doublon', 'Sans Suite', 'Règlement Contesté', 'Aribitrage Accpeté', 'Demande recours retirée',\n",
    "                     'Contestation recours acceptée', 'Rejet contesté', 'En attente de confirmation du recours',\n",
    "                     \"En attente d'arbitrage(Expert Arbitre)\", \"En attente d'arbitrage(Montant Proposé)\",'Contestation de recours Accepté', 'Recours contesté']\n",
    "\n",
    "fraudulent_statuses = ['InComplet', 'Contestation recours refusée', 'Contestation Refusée', 'Rejeté', 'Débouté',\n",
    "                        'Contestation de recours refusée', 'Arbitrage refusé']\n",
    "\n",
    "# Create a new column for simplified status\n",
    "df['SimplifiedStatus'] = df['Status'].apply(lambda x: 0 if x in accepted_statuses else 1 if x in fraudulent_statuses else 2)"
   ]
  },
  {
   "cell_type": "code",
   "execution_count": 55,
   "metadata": {},
   "outputs": [],
   "source": [
    "# Convert categorical variables to numerical\n",
    "label_encoders = {}\n",
    "for column in df.select_dtypes(include=['object']).columns:\n",
    "    df[column] = df[column].astype(str)\n",
    "    le = LabelEncoder()\n",
    "    df[column] = le.fit_transform(df[column])\n",
    "    label_encoders[column] = le"
   ]
  },
  {
   "cell_type": "code",
   "execution_count": 56,
   "metadata": {},
   "outputs": [],
   "source": [
    "# Separate features and labels\n",
    "features = df.drop(columns=['SimplifiedStatus'])\n",
    "labels = df['SimplifiedStatus']"
   ]
  },
  {
   "cell_type": "markdown",
   "metadata": {},
   "source": [
    "**Data Normalization**"
   ]
  },
  {
   "cell_type": "code",
   "execution_count": 57,
   "metadata": {},
   "outputs": [],
   "source": [
    "scaler = StandardScaler()\n",
    "features_scaled = scaler.fit_transform(features)"
   ]
  },
  {
   "cell_type": "markdown",
   "metadata": {},
   "source": [
    "## **1st.** Random Forest Classifer "
   ]
  },
  {
   "cell_type": "code",
   "execution_count": 127,
   "metadata": {},
   "outputs": [
    {
     "data": {
      "text/html": [
       "<style>#sk-container-id-7 {\n",
       "  /* Definition of color scheme common for light and dark mode */\n",
       "  --sklearn-color-text: black;\n",
       "  --sklearn-color-line: gray;\n",
       "  /* Definition of color scheme for unfitted estimators */\n",
       "  --sklearn-color-unfitted-level-0: #fff5e6;\n",
       "  --sklearn-color-unfitted-level-1: #f6e4d2;\n",
       "  --sklearn-color-unfitted-level-2: #ffe0b3;\n",
       "  --sklearn-color-unfitted-level-3: chocolate;\n",
       "  /* Definition of color scheme for fitted estimators */\n",
       "  --sklearn-color-fitted-level-0: #f0f8ff;\n",
       "  --sklearn-color-fitted-level-1: #d4ebff;\n",
       "  --sklearn-color-fitted-level-2: #b3dbfd;\n",
       "  --sklearn-color-fitted-level-3: cornflowerblue;\n",
       "\n",
       "  /* Specific color for light theme */\n",
       "  --sklearn-color-text-on-default-background: var(--sg-text-color, var(--theme-code-foreground, var(--jp-content-font-color1, black)));\n",
       "  --sklearn-color-background: var(--sg-background-color, var(--theme-background, var(--jp-layout-color0, white)));\n",
       "  --sklearn-color-border-box: var(--sg-text-color, var(--theme-code-foreground, var(--jp-content-font-color1, black)));\n",
       "  --sklearn-color-icon: #696969;\n",
       "\n",
       "  @media (prefers-color-scheme: dark) {\n",
       "    /* Redefinition of color scheme for dark theme */\n",
       "    --sklearn-color-text-on-default-background: var(--sg-text-color, var(--theme-code-foreground, var(--jp-content-font-color1, white)));\n",
       "    --sklearn-color-background: var(--sg-background-color, var(--theme-background, var(--jp-layout-color0, #111)));\n",
       "    --sklearn-color-border-box: var(--sg-text-color, var(--theme-code-foreground, var(--jp-content-font-color1, white)));\n",
       "    --sklearn-color-icon: #878787;\n",
       "  }\n",
       "}\n",
       "\n",
       "#sk-container-id-7 {\n",
       "  color: var(--sklearn-color-text);\n",
       "}\n",
       "\n",
       "#sk-container-id-7 pre {\n",
       "  padding: 0;\n",
       "}\n",
       "\n",
       "#sk-container-id-7 input.sk-hidden--visually {\n",
       "  border: 0;\n",
       "  clip: rect(1px 1px 1px 1px);\n",
       "  clip: rect(1px, 1px, 1px, 1px);\n",
       "  height: 1px;\n",
       "  margin: -1px;\n",
       "  overflow: hidden;\n",
       "  padding: 0;\n",
       "  position: absolute;\n",
       "  width: 1px;\n",
       "}\n",
       "\n",
       "#sk-container-id-7 div.sk-dashed-wrapped {\n",
       "  border: 1px dashed var(--sklearn-color-line);\n",
       "  margin: 0 0.4em 0.5em 0.4em;\n",
       "  box-sizing: border-box;\n",
       "  padding-bottom: 0.4em;\n",
       "  background-color: var(--sklearn-color-background);\n",
       "}\n",
       "\n",
       "#sk-container-id-7 div.sk-container {\n",
       "  /* jupyter's `normalize.less` sets `[hidden] { display: none; }`\n",
       "     but bootstrap.min.css set `[hidden] { display: none !important; }`\n",
       "     so we also need the `!important` here to be able to override the\n",
       "     default hidden behavior on the sphinx rendered scikit-learn.org.\n",
       "     See: https://github.com/scikit-learn/scikit-learn/issues/21755 */\n",
       "  display: inline-block !important;\n",
       "  position: relative;\n",
       "}\n",
       "\n",
       "#sk-container-id-7 div.sk-text-repr-fallback {\n",
       "  display: none;\n",
       "}\n",
       "\n",
       "div.sk-parallel-item,\n",
       "div.sk-serial,\n",
       "div.sk-item {\n",
       "  /* draw centered vertical line to link estimators */\n",
       "  background-image: linear-gradient(var(--sklearn-color-text-on-default-background), var(--sklearn-color-text-on-default-background));\n",
       "  background-size: 2px 100%;\n",
       "  background-repeat: no-repeat;\n",
       "  background-position: center center;\n",
       "}\n",
       "\n",
       "/* Parallel-specific style estimator block */\n",
       "\n",
       "#sk-container-id-7 div.sk-parallel-item::after {\n",
       "  content: \"\";\n",
       "  width: 100%;\n",
       "  border-bottom: 2px solid var(--sklearn-color-text-on-default-background);\n",
       "  flex-grow: 1;\n",
       "}\n",
       "\n",
       "#sk-container-id-7 div.sk-parallel {\n",
       "  display: flex;\n",
       "  align-items: stretch;\n",
       "  justify-content: center;\n",
       "  background-color: var(--sklearn-color-background);\n",
       "  position: relative;\n",
       "}\n",
       "\n",
       "#sk-container-id-7 div.sk-parallel-item {\n",
       "  display: flex;\n",
       "  flex-direction: column;\n",
       "}\n",
       "\n",
       "#sk-container-id-7 div.sk-parallel-item:first-child::after {\n",
       "  align-self: flex-end;\n",
       "  width: 50%;\n",
       "}\n",
       "\n",
       "#sk-container-id-7 div.sk-parallel-item:last-child::after {\n",
       "  align-self: flex-start;\n",
       "  width: 50%;\n",
       "}\n",
       "\n",
       "#sk-container-id-7 div.sk-parallel-item:only-child::after {\n",
       "  width: 0;\n",
       "}\n",
       "\n",
       "/* Serial-specific style estimator block */\n",
       "\n",
       "#sk-container-id-7 div.sk-serial {\n",
       "  display: flex;\n",
       "  flex-direction: column;\n",
       "  align-items: center;\n",
       "  background-color: var(--sklearn-color-background);\n",
       "  padding-right: 1em;\n",
       "  padding-left: 1em;\n",
       "}\n",
       "\n",
       "\n",
       "/* Toggleable style: style used for estimator/Pipeline/ColumnTransformer box that is\n",
       "clickable and can be expanded/collapsed.\n",
       "- Pipeline and ColumnTransformer use this feature and define the default style\n",
       "- Estimators will overwrite some part of the style using the `sk-estimator` class\n",
       "*/\n",
       "\n",
       "/* Pipeline and ColumnTransformer style (default) */\n",
       "\n",
       "#sk-container-id-7 div.sk-toggleable {\n",
       "  /* Default theme specific background. It is overwritten whether we have a\n",
       "  specific estimator or a Pipeline/ColumnTransformer */\n",
       "  background-color: var(--sklearn-color-background);\n",
       "}\n",
       "\n",
       "/* Toggleable label */\n",
       "#sk-container-id-7 label.sk-toggleable__label {\n",
       "  cursor: pointer;\n",
       "  display: block;\n",
       "  width: 100%;\n",
       "  margin-bottom: 0;\n",
       "  padding: 0.5em;\n",
       "  box-sizing: border-box;\n",
       "  text-align: center;\n",
       "}\n",
       "\n",
       "#sk-container-id-7 label.sk-toggleable__label-arrow:before {\n",
       "  /* Arrow on the left of the label */\n",
       "  content: \"▸\";\n",
       "  float: left;\n",
       "  margin-right: 0.25em;\n",
       "  color: var(--sklearn-color-icon);\n",
       "}\n",
       "\n",
       "#sk-container-id-7 label.sk-toggleable__label-arrow:hover:before {\n",
       "  color: var(--sklearn-color-text);\n",
       "}\n",
       "\n",
       "/* Toggleable content - dropdown */\n",
       "\n",
       "#sk-container-id-7 div.sk-toggleable__content {\n",
       "  max-height: 0;\n",
       "  max-width: 0;\n",
       "  overflow: hidden;\n",
       "  text-align: left;\n",
       "  /* unfitted */\n",
       "  background-color: var(--sklearn-color-unfitted-level-0);\n",
       "}\n",
       "\n",
       "#sk-container-id-7 div.sk-toggleable__content.fitted {\n",
       "  /* fitted */\n",
       "  background-color: var(--sklearn-color-fitted-level-0);\n",
       "}\n",
       "\n",
       "#sk-container-id-7 div.sk-toggleable__content pre {\n",
       "  margin: 0.2em;\n",
       "  border-radius: 0.25em;\n",
       "  color: var(--sklearn-color-text);\n",
       "  /* unfitted */\n",
       "  background-color: var(--sklearn-color-unfitted-level-0);\n",
       "}\n",
       "\n",
       "#sk-container-id-7 div.sk-toggleable__content.fitted pre {\n",
       "  /* unfitted */\n",
       "  background-color: var(--sklearn-color-fitted-level-0);\n",
       "}\n",
       "\n",
       "#sk-container-id-7 input.sk-toggleable__control:checked~div.sk-toggleable__content {\n",
       "  /* Expand drop-down */\n",
       "  max-height: 200px;\n",
       "  max-width: 100%;\n",
       "  overflow: auto;\n",
       "}\n",
       "\n",
       "#sk-container-id-7 input.sk-toggleable__control:checked~label.sk-toggleable__label-arrow:before {\n",
       "  content: \"▾\";\n",
       "}\n",
       "\n",
       "/* Pipeline/ColumnTransformer-specific style */\n",
       "\n",
       "#sk-container-id-7 div.sk-label input.sk-toggleable__control:checked~label.sk-toggleable__label {\n",
       "  color: var(--sklearn-color-text);\n",
       "  background-color: var(--sklearn-color-unfitted-level-2);\n",
       "}\n",
       "\n",
       "#sk-container-id-7 div.sk-label.fitted input.sk-toggleable__control:checked~label.sk-toggleable__label {\n",
       "  background-color: var(--sklearn-color-fitted-level-2);\n",
       "}\n",
       "\n",
       "/* Estimator-specific style */\n",
       "\n",
       "/* Colorize estimator box */\n",
       "#sk-container-id-7 div.sk-estimator input.sk-toggleable__control:checked~label.sk-toggleable__label {\n",
       "  /* unfitted */\n",
       "  background-color: var(--sklearn-color-unfitted-level-2);\n",
       "}\n",
       "\n",
       "#sk-container-id-7 div.sk-estimator.fitted input.sk-toggleable__control:checked~label.sk-toggleable__label {\n",
       "  /* fitted */\n",
       "  background-color: var(--sklearn-color-fitted-level-2);\n",
       "}\n",
       "\n",
       "#sk-container-id-7 div.sk-label label.sk-toggleable__label,\n",
       "#sk-container-id-7 div.sk-label label {\n",
       "  /* The background is the default theme color */\n",
       "  color: var(--sklearn-color-text-on-default-background);\n",
       "}\n",
       "\n",
       "/* On hover, darken the color of the background */\n",
       "#sk-container-id-7 div.sk-label:hover label.sk-toggleable__label {\n",
       "  color: var(--sklearn-color-text);\n",
       "  background-color: var(--sklearn-color-unfitted-level-2);\n",
       "}\n",
       "\n",
       "/* Label box, darken color on hover, fitted */\n",
       "#sk-container-id-7 div.sk-label.fitted:hover label.sk-toggleable__label.fitted {\n",
       "  color: var(--sklearn-color-text);\n",
       "  background-color: var(--sklearn-color-fitted-level-2);\n",
       "}\n",
       "\n",
       "/* Estimator label */\n",
       "\n",
       "#sk-container-id-7 div.sk-label label {\n",
       "  font-family: monospace;\n",
       "  font-weight: bold;\n",
       "  display: inline-block;\n",
       "  line-height: 1.2em;\n",
       "}\n",
       "\n",
       "#sk-container-id-7 div.sk-label-container {\n",
       "  text-align: center;\n",
       "}\n",
       "\n",
       "/* Estimator-specific */\n",
       "#sk-container-id-7 div.sk-estimator {\n",
       "  font-family: monospace;\n",
       "  border: 1px dotted var(--sklearn-color-border-box);\n",
       "  border-radius: 0.25em;\n",
       "  box-sizing: border-box;\n",
       "  margin-bottom: 0.5em;\n",
       "  /* unfitted */\n",
       "  background-color: var(--sklearn-color-unfitted-level-0);\n",
       "}\n",
       "\n",
       "#sk-container-id-7 div.sk-estimator.fitted {\n",
       "  /* fitted */\n",
       "  background-color: var(--sklearn-color-fitted-level-0);\n",
       "}\n",
       "\n",
       "/* on hover */\n",
       "#sk-container-id-7 div.sk-estimator:hover {\n",
       "  /* unfitted */\n",
       "  background-color: var(--sklearn-color-unfitted-level-2);\n",
       "}\n",
       "\n",
       "#sk-container-id-7 div.sk-estimator.fitted:hover {\n",
       "  /* fitted */\n",
       "  background-color: var(--sklearn-color-fitted-level-2);\n",
       "}\n",
       "\n",
       "/* Specification for estimator info (e.g. \"i\" and \"?\") */\n",
       "\n",
       "/* Common style for \"i\" and \"?\" */\n",
       "\n",
       ".sk-estimator-doc-link,\n",
       "a:link.sk-estimator-doc-link,\n",
       "a:visited.sk-estimator-doc-link {\n",
       "  float: right;\n",
       "  font-size: smaller;\n",
       "  line-height: 1em;\n",
       "  font-family: monospace;\n",
       "  background-color: var(--sklearn-color-background);\n",
       "  border-radius: 1em;\n",
       "  height: 1em;\n",
       "  width: 1em;\n",
       "  text-decoration: none !important;\n",
       "  margin-left: 1ex;\n",
       "  /* unfitted */\n",
       "  border: var(--sklearn-color-unfitted-level-1) 1pt solid;\n",
       "  color: var(--sklearn-color-unfitted-level-1);\n",
       "}\n",
       "\n",
       ".sk-estimator-doc-link.fitted,\n",
       "a:link.sk-estimator-doc-link.fitted,\n",
       "a:visited.sk-estimator-doc-link.fitted {\n",
       "  /* fitted */\n",
       "  border: var(--sklearn-color-fitted-level-1) 1pt solid;\n",
       "  color: var(--sklearn-color-fitted-level-1);\n",
       "}\n",
       "\n",
       "/* On hover */\n",
       "div.sk-estimator:hover .sk-estimator-doc-link:hover,\n",
       ".sk-estimator-doc-link:hover,\n",
       "div.sk-label-container:hover .sk-estimator-doc-link:hover,\n",
       ".sk-estimator-doc-link:hover {\n",
       "  /* unfitted */\n",
       "  background-color: var(--sklearn-color-unfitted-level-3);\n",
       "  color: var(--sklearn-color-background);\n",
       "  text-decoration: none;\n",
       "}\n",
       "\n",
       "div.sk-estimator.fitted:hover .sk-estimator-doc-link.fitted:hover,\n",
       ".sk-estimator-doc-link.fitted:hover,\n",
       "div.sk-label-container:hover .sk-estimator-doc-link.fitted:hover,\n",
       ".sk-estimator-doc-link.fitted:hover {\n",
       "  /* fitted */\n",
       "  background-color: var(--sklearn-color-fitted-level-3);\n",
       "  color: var(--sklearn-color-background);\n",
       "  text-decoration: none;\n",
       "}\n",
       "\n",
       "/* Span, style for the box shown on hovering the info icon */\n",
       ".sk-estimator-doc-link span {\n",
       "  display: none;\n",
       "  z-index: 9999;\n",
       "  position: relative;\n",
       "  font-weight: normal;\n",
       "  right: .2ex;\n",
       "  padding: .5ex;\n",
       "  margin: .5ex;\n",
       "  width: min-content;\n",
       "  min-width: 20ex;\n",
       "  max-width: 50ex;\n",
       "  color: var(--sklearn-color-text);\n",
       "  box-shadow: 2pt 2pt 4pt #999;\n",
       "  /* unfitted */\n",
       "  background: var(--sklearn-color-unfitted-level-0);\n",
       "  border: .5pt solid var(--sklearn-color-unfitted-level-3);\n",
       "}\n",
       "\n",
       ".sk-estimator-doc-link.fitted span {\n",
       "  /* fitted */\n",
       "  background: var(--sklearn-color-fitted-level-0);\n",
       "  border: var(--sklearn-color-fitted-level-3);\n",
       "}\n",
       "\n",
       ".sk-estimator-doc-link:hover span {\n",
       "  display: block;\n",
       "}\n",
       "\n",
       "/* \"?\"-specific style due to the `<a>` HTML tag */\n",
       "\n",
       "#sk-container-id-7 a.estimator_doc_link {\n",
       "  float: right;\n",
       "  font-size: 1rem;\n",
       "  line-height: 1em;\n",
       "  font-family: monospace;\n",
       "  background-color: var(--sklearn-color-background);\n",
       "  border-radius: 1rem;\n",
       "  height: 1rem;\n",
       "  width: 1rem;\n",
       "  text-decoration: none;\n",
       "  /* unfitted */\n",
       "  color: var(--sklearn-color-unfitted-level-1);\n",
       "  border: var(--sklearn-color-unfitted-level-1) 1pt solid;\n",
       "}\n",
       "\n",
       "#sk-container-id-7 a.estimator_doc_link.fitted {\n",
       "  /* fitted */\n",
       "  border: var(--sklearn-color-fitted-level-1) 1pt solid;\n",
       "  color: var(--sklearn-color-fitted-level-1);\n",
       "}\n",
       "\n",
       "/* On hover */\n",
       "#sk-container-id-7 a.estimator_doc_link:hover {\n",
       "  /* unfitted */\n",
       "  background-color: var(--sklearn-color-unfitted-level-3);\n",
       "  color: var(--sklearn-color-background);\n",
       "  text-decoration: none;\n",
       "}\n",
       "\n",
       "#sk-container-id-7 a.estimator_doc_link.fitted:hover {\n",
       "  /* fitted */\n",
       "  background-color: var(--sklearn-color-fitted-level-3);\n",
       "}\n",
       "</style><div id=\"sk-container-id-7\" class=\"sk-top-container\"><div class=\"sk-text-repr-fallback\"><pre>RandomForestClassifier(n_estimators=5, random_state=0)</pre><b>In a Jupyter environment, please rerun this cell to show the HTML representation or trust the notebook. <br />On GitHub, the HTML representation is unable to render, please try loading this page with nbviewer.org.</b></div><div class=\"sk-container\" hidden><div class=\"sk-item\"><div class=\"sk-estimator fitted sk-toggleable\"><input class=\"sk-toggleable__control sk-hidden--visually\" id=\"sk-estimator-id-7\" type=\"checkbox\" checked><label for=\"sk-estimator-id-7\" class=\"sk-toggleable__label fitted sk-toggleable__label-arrow fitted\">&nbsp;&nbsp;RandomForestClassifier<a class=\"sk-estimator-doc-link fitted\" rel=\"noreferrer\" target=\"_blank\" href=\"https://scikit-learn.org/1.4/modules/generated/sklearn.ensemble.RandomForestClassifier.html\">?<span>Documentation for RandomForestClassifier</span></a><span class=\"sk-estimator-doc-link fitted\">i<span>Fitted</span></span></label><div class=\"sk-toggleable__content fitted\"><pre>RandomForestClassifier(n_estimators=5, random_state=0)</pre></div> </div></div></div></div>"
      ],
      "text/plain": [
       "RandomForestClassifier(n_estimators=5, random_state=0)"
      ]
     },
     "execution_count": 127,
     "metadata": {},
     "output_type": "execute_result"
    }
   ],
   "source": [
    "clf = RandomForestClassifier(n_estimators=5, random_state=0)\n",
    "clf.fit(features_scaled, labels)"
   ]
  },
  {
   "cell_type": "markdown",
   "metadata": {},
   "source": [
    "## **2nd.** Apply PCA"
   ]
  },
  {
   "cell_type": "code",
   "execution_count": 128,
   "metadata": {},
   "outputs": [],
   "source": [
    "pca = IncrementalPCA(n_components=2)\n",
    "principalComponents = pca.fit_transform(features_scaled)\n",
    "principalDf = pd.DataFrame(data=principalComponents, columns=['principal component 1', 'principal component 2'])"
   ]
  },
  {
   "cell_type": "markdown",
   "metadata": {},
   "source": [
    "## **3rd.** K-means (Just for visualizing data)"
   ]
  },
  {
   "cell_type": "code",
   "execution_count": 129,
   "metadata": {},
   "outputs": [],
   "source": [
    "kmeans = MiniBatchKMeans(n_clusters=2)\n",
    "kmeans.fit(principalDf)\n",
    "\n",
    "# Add labels to the dataframe\n",
    "principalDf['Cluster'] = kmeans.labels_\n",
    "principalDf['SimplifiedStatus'] = labels"
   ]
  },
  {
   "cell_type": "markdown",
   "metadata": {},
   "source": [
    "**Data Visualization**"
   ]
  },
  {
   "cell_type": "code",
   "execution_count": 130,
   "metadata": {},
   "outputs": [
    {
     "data": {
      "image/png": "[encoded data removed]",
      "text/plain": [
       "<Figure size 1000x600 with 2 Axes>"
      ]
     },
     "metadata": {},
     "output_type": "display_data"
    }
   ],
   "source": [
    "plt.figure(figsize=(10, 6))\n",
    "scatter = plt.scatter(principalDf['principal component 1'], principalDf['principal component 2'], c=principalDf['Cluster'], cmap='viridis')\n",
    "plt.xlabel('Principal Component 1')\n",
    "plt.ylabel('Principal Component 2')\n",
    "plt.title('PCA and K-Means Clustering')\n",
    "cbar = plt.colorbar(scatter)\n",
    "cbar.set_label('Cluster')\n",
    "plt.show()"
   ]
  },
  {
   "cell_type": "code",
   "execution_count": 131,
   "metadata": {},
   "outputs": [],
   "source": [
    "# Get the predicted probabilities of the positive class (fraudulent)\n",
    "pred_probs = clf.predict_proba(features_scaled)[:, 1]"
   ]
  },
  {
   "cell_type": "markdown",
   "metadata": {},
   "source": [
    "*Adjust the threshold for classification **default** to **fraudulent** unless proven otherwise*"
   ]
  },
  {
   "cell_type": "code",
   "execution_count": 132,
   "metadata": {},
   "outputs": [],
   "source": [
    "threshold = 0.48  #lower threshold to increase the bias towards fraud\n",
    "pred = (pred_probs >= threshold).astype(int)"
   ]
  },
  {
   "cell_type": "markdown",
   "metadata": {},
   "source": [
    "*Making it better to look at and understand*"
   ]
  },
  {
   "cell_type": "code",
   "execution_count": 133,
   "metadata": {},
   "outputs": [],
   "source": [
    "df['Anomaly'] = pred"
   ]
  },
  {
   "cell_type": "markdown",
   "metadata": {},
   "source": [
    "*Visualisation of our DataFrame*"
   ]
  },
  {
   "cell_type": "code",
   "execution_count": 134,
   "metadata": {},
   "outputs": [
    {
     "name": "stdout",
     "output_type": "stream",
     "text": [
      "    ApplicantReference  DefendantReference  SinistreDate  Status  Reference  \\\n",
      "0                    1                  11           574       0       5164   \n",
      "1                    3                  12           202       0       7833   \n",
      "2                    0                   3          1785       4        377   \n",
      "3                   10                   6           202      13      25139   \n",
      "4                   12                   9            17       0      34814   \n",
      "5                    0                   8           997      30       1552   \n",
      "6                   12                   0           208       0      31461   \n",
      "7                   12                   0            17       0      31422   \n",
      "8                   12                   7           485       0      33582   \n",
      "9                   12                  11            17       0      36047   \n",
      "10                   6                  10           252       0      12737   \n",
      "11                   4                   6            12       0       8221   \n",
      "12                  12                   7           328       0      33533   \n",
      "13                  12                   6            17       0      32992   \n",
      "14                   1                   0           366       0       3670   \n",
      "15                   4                   8            32       1       8427   \n",
      "16                   4                   5            59       0       8193   \n",
      "17                  12                  13            17      29      36452   \n",
      "18                   8                   7           741       0      17963   \n",
      "19                   4                   8          1450       0       8483   \n",
      "\n",
      "    ApplicantSinistreNumber  DefendantSinistreNumber  \\\n",
      "0                     30985                    14992   \n",
      "1                     16181                     9803   \n",
      "2                     35574                      554   \n",
      "3                     23848                     6462   \n",
      "4                     20020                     9373   \n",
      "5                      1434                      554   \n",
      "6                     20887                    26882   \n",
      "7                     19157                    22629   \n",
      "8                     17718                    26148   \n",
      "9                     14561                    16398   \n",
      "10                     7065                    16850   \n",
      "11                    29651                     6313   \n",
      "12                    18137                    25850   \n",
      "13                    10662                     6319   \n",
      "14                    30958                      418   \n",
      "15                    29653                      554   \n",
      "16                    29655                    20289   \n",
      "17                    20453                      554   \n",
      "18                     3033                      554   \n",
      "19                    30223                     4985   \n",
      "\n",
      "    PlaintiffCompanyInsuredLiability  DefendantCompanyInsuredLiability  Index  \\\n",
      "0                                  0                               100     38   \n",
      "1                                 50                                50      8   \n",
      "2                                  0                               100     24   \n",
      "3                                  0                               100     30   \n",
      "4                                  0                               100      2   \n",
      "5                                 25                                75      3   \n",
      "6                                  0                               100     42   \n",
      "7                                  0                               100      3   \n",
      "8                                  0                               100    116   \n",
      "9                                  0                               100      2   \n",
      "10                                 0                               100     21   \n",
      "11                                 0                               100      1   \n",
      "12                                 0                               100     67   \n",
      "13                                 0                               100      1   \n",
      "14                                 0                               100     50   \n",
      "15                                50                                50      1   \n",
      "16                                 0                               100      1   \n",
      "17                                 0                               100      1   \n",
      "18                                 0                               100     45   \n",
      "19                                 0                               100     10   \n",
      "\n",
      "    ...  EstimedAmount  AssureeDefendant  ScaleCase  WorkFlowType  HIDA_Index  \\\n",
      "0   ...            0.0             27215          2             0           0   \n",
      "1   ...            0.0             28842         10             1           0   \n",
      "2   ...            0.0             15934         13             0           0   \n",
      "3   ...            0.0              4965         34             1           0   \n",
      "4   ...            0.0               287         14             1           0   \n",
      "5   ...            1.0             20726         13             1           0   \n",
      "6   ...            0.0              1630         18             0           0   \n",
      "7   ...            0.0               287         18             1           0   \n",
      "8   ...            0.0             19472         18             1           0   \n",
      "9   ...            0.0               287         20             1           0   \n",
      "10  ...            0.0              9998         13             1           1   \n",
      "11  ...            0.0             30439          3             1           0   \n",
      "12  ...            0.0             31072         14             1           0   \n",
      "13  ...            0.0               287         18             1           0   \n",
      "14  ...            0.0             17389          3             1           0   \n",
      "15  ...            0.0             17785          2             0           1   \n",
      "16  ...            0.0             21661          8             1           0   \n",
      "17  ...            0.0               287         18             1           0   \n",
      "18  ...            0.0             27065         14             1           0   \n",
      "19  ...            0.0             13174          7             1           0   \n",
      "\n",
      "    OpenDate  AssureeApplicant  ProposedAmount  SimplifiedStatus  Anomaly  \n",
      "0         31              9972             0.0                 0        0  \n",
      "1         15             29137             0.0                 0        0  \n",
      "2        105             12690             0.0                 0        0  \n",
      "3         13             11290             0.0                 0        0  \n",
      "4          4             11648             0.0                 0        0  \n",
      "5         53              3585             0.0                 0        0  \n",
      "6         12              6637             0.0                 0        0  \n",
      "7          4             13826             0.0                 0        0  \n",
      "8         26             10218             0.0                 0        0  \n",
      "9          5             20111             0.0                 0        0  \n",
      "10        14             25797             0.0                 0        0  \n",
      "11         4             15671             0.0                 0        0  \n",
      "12        19             15144             0.0                 0        0  \n",
      "13         5             10664             0.0                 0        0  \n",
      "14        20                74             0.0                 0        0  \n",
      "15         4             24544             0.0                 0        0  \n",
      "16         5             28471             0.0                 0        0  \n",
      "17         5             15024             0.0                 0        0  \n",
      "18        41             17693             0.0                 0        0  \n",
      "19        83             30342             0.0                 0        0  \n",
      "\n",
      "[20 rows x 25 columns]\n"
     ]
    }
   ],
   "source": [
    "print(df.head(20))"
   ]
  },
  {
   "cell_type": "markdown",
   "metadata": {},
   "source": [
    "*Proportion of accepted and fraudulent statuses in each anomaly group*"
   ]
  },
  {
   "cell_type": "code",
   "execution_count": 135,
   "metadata": {},
   "outputs": [
    {
     "name": "stdout",
     "output_type": "stream",
     "text": [
      "SimplifiedStatus         0         1\n",
      "Anomaly                             \n",
      "0                 0.999835  0.000165\n",
      "1                 0.000803  0.999197\n"
     ]
    }
   ],
   "source": [
    "anomaly_status = df.groupby('Anomaly')['SimplifiedStatus'].value_counts(normalize=True).unstack()\n",
    "print(anomaly_status)"
   ]
  },
  {
   "cell_type": "markdown",
   "metadata": {},
   "source": [
    "# Accuracy"
   ]
  },
  {
   "cell_type": "code",
   "execution_count": 136,
   "metadata": {},
   "outputs": [
    {
     "name": "stdout",
     "output_type": "stream",
     "text": [
      "Accuracy: 0.9975606624727179\n"
     ]
    }
   ],
   "source": [
    "# Splitting the data into a training set and a test set\n",
    "features_train, features_test, labels_train, labels_test = train_test_split(features_scaled, labels, test_size=0.2, random_state=42)\n",
    "\n",
    "# Training the model on the training set\n",
    "clf.fit(features_train, labels_train)\n",
    "\n",
    "# Test the model on the test set\n",
    "labels_pred = clf.predict(features_test)\n",
    "\n",
    "accuracy = (labels_pred == labels_test).mean()\n",
    "print(f'Accuracy: {accuracy}')"
   ]
  },
  {
   "cell_type": "markdown",
   "metadata": {},
   "source": [
    "## F1 Score"
   ]
  },
  {
   "cell_type": "code",
   "execution_count": 137,
   "metadata": {},
   "outputs": [
    {
     "name": "stdout",
     "output_type": "stream",
     "text": [
      "F1 Score: 0.9799366420274551\n"
     ]
    }
   ],
   "source": [
    "f1 = f1_score(labels_test, labels_pred, average='binary')  \n",
    "print(f'F1 Score: {f1}')"
   ]
  },
  {
   "cell_type": "code",
   "execution_count": 139,
   "metadata": {},
   "outputs": [
    {
     "name": "stdout",
     "output_type": "stream",
     "text": [
      "AUC: 0.9986964399775787\n"
     ]
    },
    {
     "data": {
      "image/png": "[encoded data removed]",
      "text/plain": [
       "<Figure size 1000x800 with 1 Axes>"
      ]
     },
     "metadata": {},
     "output_type": "display_data"
    }
   ],
   "source": [
    "\n",
    "# Calculate the probabilities of the positive class\n",
    "probs = clf.predict_proba(features_test)[:, 1]\n",
    "\n",
    "# Calculate the ROC curve\n",
    "fpr, tpr, thresholds = roc_curve(labels_test, probs)\n",
    "\n",
    "# Calculate the AUC\n",
    "auc = roc_auc_score(labels_test, probs)\n",
    "print(f'AUC: {auc}')\n",
    "\n",
    "# Plot the ROC curve\n",
    "plt.figure(figsize=(10, 8))\n",
    "plt.plot(fpr, tpr, color='darkorange', label=f'ROC curve (AUC = {auc:.2f})')\n",
    "plt.plot([0, 1], [0, 1], color='navy', linestyle='--')\n",
    "plt.xlim([0.0, 1.0])\n",
    "plt.ylim([0.0, 1.05])\n",
    "plt.xlabel('False Positive Rate')\n",
    "plt.ylabel('True Positive Rate')\n",
    "plt.title('Receiver Operating Characteristic')\n",
    "plt.legend(loc='lower right')\n",
    "plt.show()"
   ]
  },
  {
   "cell_type": "markdown",
   "metadata": {},
   "source": [
    "# THE HEATMAP 🪨"
   ]
  },
  {
   "cell_type": "code",
   "execution_count": 138,
   "metadata": {},
   "outputs": [
    {
     "data": {
      "image/png": "[encoded data removed]",
      "text/plain": [
       "<Figure size 1000x600 with 2 Axes>"
      ]
     },
     "metadata": {},
     "output_type": "display_data"
    }
   ],
   "source": [
    "plt.figure(figsize=(10, 6))\n",
    "sns.heatmap(anomaly_status, annot=True, cmap='coolwarm')\n",
    "plt.title('Proportion of Accepted and Fraudulent Statuses in Each Anomaly Group')\n",
    "plt.xlabel('SimplifiedStatus')\n",
    "plt.ylabel('Anomaly')\n",
    "plt.show()"
   ]
  }
 ],
 "metadata": {
  "kernelspec": {
   "display_name": "Python 3",
   "language": "python",
   "name": "python3"
  },
  "language_info": {
   "codemirror_mode": {
    "name": "ipython",
    "version": 3
   },
   "file_extension": ".py",
   "mimetype": "text/x-python",
   "name": "python",
   "nbconvert_exporter": "python",
   "pygments_lexer": "ipython3",
   "version": "3.12.3"
  }
 },
 "nbformat": 4,
 "nbformat_minor": 2
}
